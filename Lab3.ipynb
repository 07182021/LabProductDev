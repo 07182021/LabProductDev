{
 "cells": [
  {
   "cell_type": "code",
   "execution_count": 1,
   "id": "f5e71516-f63c-4d0b-9e96-ec03cf62c932",
   "metadata": {},
   "outputs": [],
   "source": [
    "import pandas as pd\n",
    "import numpy as np\n",
    "import matplotlib.pyplot as plt"
   ]
  },
  {
   "cell_type": "markdown",
   "id": "e4a3ffda-c22c-407a-b70e-6a48a6a87e01",
   "metadata": {},
   "source": [
    "### 1. Carga Datos"
   ]
  },
  {
   "cell_type": "code",
   "execution_count": 2,
   "id": "9d4bc0d8-0ebd-4c38-9cc8-2d3feddd6d4e",
   "metadata": {},
   "outputs": [
    {
     "name": "stdout",
     "output_type": "stream",
     "text": [
      "(891, 12)\n",
      "\n"
     ]
    },
    {
     "data": {
      "text/html": [
       "<div>\n",
       "<style scoped>\n",
       "    .dataframe tbody tr th:only-of-type {\n",
       "        vertical-align: middle;\n",
       "    }\n",
       "\n",
       "    .dataframe tbody tr th {\n",
       "        vertical-align: top;\n",
       "    }\n",
       "\n",
       "    .dataframe thead th {\n",
       "        text-align: right;\n",
       "    }\n",
       "</style>\n",
       "<table border=\"1\" class=\"dataframe\">\n",
       "  <thead>\n",
       "    <tr style=\"text-align: right;\">\n",
       "      <th></th>\n",
       "      <th>PassengerId</th>\n",
       "      <th>Survived</th>\n",
       "      <th>Pclass</th>\n",
       "      <th>Name</th>\n",
       "      <th>Sex</th>\n",
       "      <th>Age</th>\n",
       "      <th>SibSp</th>\n",
       "      <th>Parch</th>\n",
       "      <th>Ticket</th>\n",
       "      <th>Fare</th>\n",
       "      <th>Cabin</th>\n",
       "      <th>Embarked</th>\n",
       "    </tr>\n",
       "  </thead>\n",
       "  <tbody>\n",
       "    <tr>\n",
       "      <th>0</th>\n",
       "      <td>1</td>\n",
       "      <td>0</td>\n",
       "      <td>3</td>\n",
       "      <td>Braund, Mr. Owen Harris</td>\n",
       "      <td>male</td>\n",
       "      <td>22.0</td>\n",
       "      <td>1</td>\n",
       "      <td>0</td>\n",
       "      <td>A/5 21171</td>\n",
       "      <td>7.2500</td>\n",
       "      <td>NaN</td>\n",
       "      <td>S</td>\n",
       "    </tr>\n",
       "    <tr>\n",
       "      <th>1</th>\n",
       "      <td>2</td>\n",
       "      <td>1</td>\n",
       "      <td>1</td>\n",
       "      <td>Cumings, Mrs. John Bradley (Florence Briggs Th...</td>\n",
       "      <td>female</td>\n",
       "      <td>38.0</td>\n",
       "      <td>1</td>\n",
       "      <td>0</td>\n",
       "      <td>PC 17599</td>\n",
       "      <td>71.2833</td>\n",
       "      <td>C85</td>\n",
       "      <td>C</td>\n",
       "    </tr>\n",
       "    <tr>\n",
       "      <th>2</th>\n",
       "      <td>3</td>\n",
       "      <td>1</td>\n",
       "      <td>3</td>\n",
       "      <td>Heikkinen, Miss. Laina</td>\n",
       "      <td>female</td>\n",
       "      <td>26.0</td>\n",
       "      <td>0</td>\n",
       "      <td>0</td>\n",
       "      <td>STON/O2. 3101282</td>\n",
       "      <td>7.9250</td>\n",
       "      <td>NaN</td>\n",
       "      <td>S</td>\n",
       "    </tr>\n",
       "    <tr>\n",
       "      <th>3</th>\n",
       "      <td>4</td>\n",
       "      <td>1</td>\n",
       "      <td>1</td>\n",
       "      <td>Futrelle, Mrs. Jacques Heath (Lily May Peel)</td>\n",
       "      <td>female</td>\n",
       "      <td>35.0</td>\n",
       "      <td>1</td>\n",
       "      <td>0</td>\n",
       "      <td>113803</td>\n",
       "      <td>53.1000</td>\n",
       "      <td>C123</td>\n",
       "      <td>S</td>\n",
       "    </tr>\n",
       "    <tr>\n",
       "      <th>4</th>\n",
       "      <td>5</td>\n",
       "      <td>0</td>\n",
       "      <td>3</td>\n",
       "      <td>Allen, Mr. William Henry</td>\n",
       "      <td>male</td>\n",
       "      <td>35.0</td>\n",
       "      <td>0</td>\n",
       "      <td>0</td>\n",
       "      <td>373450</td>\n",
       "      <td>8.0500</td>\n",
       "      <td>NaN</td>\n",
       "      <td>S</td>\n",
       "    </tr>\n",
       "  </tbody>\n",
       "</table>\n",
       "</div>"
      ],
      "text/plain": [
       "   PassengerId  Survived  Pclass  \\\n",
       "0            1         0       3   \n",
       "1            2         1       1   \n",
       "2            3         1       3   \n",
       "3            4         1       1   \n",
       "4            5         0       3   \n",
       "\n",
       "                                                Name     Sex   Age  SibSp  \\\n",
       "0                            Braund, Mr. Owen Harris    male  22.0      1   \n",
       "1  Cumings, Mrs. John Bradley (Florence Briggs Th...  female  38.0      1   \n",
       "2                             Heikkinen, Miss. Laina  female  26.0      0   \n",
       "3       Futrelle, Mrs. Jacques Heath (Lily May Peel)  female  35.0      1   \n",
       "4                           Allen, Mr. William Henry    male  35.0      0   \n",
       "\n",
       "   Parch            Ticket     Fare Cabin Embarked  \n",
       "0      0         A/5 21171   7.2500   NaN        S  \n",
       "1      0          PC 17599  71.2833   C85        C  \n",
       "2      0  STON/O2. 3101282   7.9250   NaN        S  \n",
       "3      0            113803  53.1000  C123        S  \n",
       "4      0            373450   8.0500   NaN        S  "
      ]
     },
     "execution_count": 2,
     "metadata": {},
     "output_type": "execute_result"
    }
   ],
   "source": [
    "data = pd.read_csv('titanic.csv')\n",
    "\n",
    "print(str(data.shape) + '\\n')\n",
    "data.head()"
   ]
  },
  {
   "cell_type": "markdown",
   "id": "4b5acbbc-d7b3-4e20-b6fd-6d185397bac9",
   "metadata": {},
   "source": [
    "### 2. Analisis de Datos para toma de decisiones en FE Pipeline"
   ]
  },
  {
   "cell_type": "code",
   "execution_count": 3,
   "id": "ceea7800-15b6-49a3-832b-ff06f91f7785",
   "metadata": {},
   "outputs": [
    {
     "data": {
      "image/png": "[encoded data removed]",
      "text/plain": [
       "<Figure size 432x288 with 1 Axes>"
      ]
     },
     "metadata": {
      "needs_background": "light"
     },
     "output_type": "display_data"
    }
   ],
   "source": [
    "data['Survived'].hist(bins=50, density=True)\n",
    "plt.xlabel(\"Survived\")\n",
    "plt.ylabel(\"Cantidad de Pasajeros\")\n",
    "plt.show()"
   ]
  },
  {
   "cell_type": "markdown",
   "id": "f67ffc2c-4648-4093-9154-a849bd30579f",
   "metadata": {},
   "source": [
    "#### 2.1 Verificamos tipos de variables en X"
   ]
  },
  {
   "cell_type": "code",
   "execution_count": 4,
   "id": "3f49a98d-f454-43a8-8962-770d35ccc91d",
   "metadata": {},
   "outputs": [
    {
     "data": {
      "text/plain": [
       "5"
      ]
     },
     "execution_count": 4,
     "metadata": {},
     "output_type": "execute_result"
    }
   ],
   "source": [
    "cat_vars = [var for var in data.columns if data[var].dtype == 'O']\n",
    "#cantidad e variables categoricas\n",
    "len(cat_vars)"
   ]
  },
  {
   "cell_type": "code",
   "execution_count": 5,
   "id": "44407bb9-a07c-49a9-9d7f-fcfa433ffc05",
   "metadata": {},
   "outputs": [
    {
     "data": {
      "text/plain": [
       "Name        object\n",
       "Sex         object\n",
       "Ticket      object\n",
       "Cabin       object\n",
       "Embarked    object\n",
       "dtype: object"
      ]
     },
     "execution_count": 5,
     "metadata": {},
     "output_type": "execute_result"
    }
   ],
   "source": [
    "data[cat_vars].dtypes"
   ]
  },
  {
   "cell_type": "code",
   "execution_count": 6,
   "id": "6cfe4a54-9745-43fd-95b7-4de53a2c43b1",
   "metadata": {},
   "outputs": [],
   "source": [
    "#agregamos el caso especial ya que por definicion esta variables es categorica\n",
    "cat_vars = cat_vars + ['Survived']"
   ]
  },
  {
   "cell_type": "code",
   "execution_count": 7,
   "id": "b0236dc4-14d5-49ba-b303-979c1c159d7b",
   "metadata": {},
   "outputs": [
    {
     "data": {
      "text/plain": [
       "Name        object\n",
       "Sex         object\n",
       "Ticket      object\n",
       "Cabin       object\n",
       "Embarked    object\n",
       "Survived     int64\n",
       "dtype: object"
      ]
     },
     "execution_count": 7,
     "metadata": {},
     "output_type": "execute_result"
    }
   ],
   "source": [
    "data[cat_vars].dtypes"
   ]
  },
  {
   "cell_type": "code",
   "execution_count": 8,
   "id": "fa5e5b05-b9d6-4567-a760-28b89fbb8033",
   "metadata": {},
   "outputs": [],
   "source": [
    "cat_vars = cat_vars + ['Pclass']"
   ]
  },
  {
   "cell_type": "code",
   "execution_count": 9,
   "id": "0f77ab3d-18fa-4e6e-8bae-31d95dc07104",
   "metadata": {},
   "outputs": [
    {
     "data": {
      "text/plain": [
       "Name        object\n",
       "Sex         object\n",
       "Ticket      object\n",
       "Cabin       object\n",
       "Embarked    object\n",
       "Survived     int64\n",
       "Pclass       int64\n",
       "dtype: object"
      ]
     },
     "execution_count": 9,
     "metadata": {},
     "output_type": "execute_result"
    }
   ],
   "source": [
    "data[cat_vars].dtypes"
   ]
  },
  {
   "cell_type": "code",
   "execution_count": 10,
   "id": "9a1bf4ff-9d65-419e-b419-26769f985c32",
   "metadata": {},
   "outputs": [],
   "source": [
    "# Variables numericas\n",
    "\n",
    "num_vars = [var for var in data.columns if (var not in cat_vars and var !='Survived')]"
   ]
  },
  {
   "cell_type": "code",
   "execution_count": 11,
   "id": "ea7dfb6e-3826-4ed4-a426-c5e231cc4cd9",
   "metadata": {},
   "outputs": [
    {
     "data": {
      "text/plain": [
       "PassengerId      int64\n",
       "Age            float64\n",
       "SibSp            int64\n",
       "Parch            int64\n",
       "Fare           float64\n",
       "dtype: object"
      ]
     },
     "execution_count": 11,
     "metadata": {},
     "output_type": "execute_result"
    }
   ],
   "source": [
    "data[num_vars].dtypes"
   ]
  },
  {
   "cell_type": "markdown",
   "id": "5bb0bd90-1ca1-4e4d-8c5e-fba73b8ce4e5",
   "metadata": {},
   "source": [
    "#### 2.2 Analisis de valores faltantes"
   ]
  },
  {
   "cell_type": "code",
   "execution_count": 12,
   "id": "cf23e7a9-bc07-449a-bef6-f10670f7141f",
   "metadata": {},
   "outputs": [
    {
     "data": {
      "text/plain": [
       "3"
      ]
     },
     "execution_count": 12,
     "metadata": {},
     "output_type": "execute_result"
    }
   ],
   "source": [
    "var_with_na = [var for var in data.columns if(data[var].isnull().sum()>0)]\n",
    "len(var_with_na)"
   ]
  },
  {
   "cell_type": "code",
   "execution_count": 13,
   "id": "31e89ace-5561-428c-a182-c7fb2693317a",
   "metadata": {},
   "outputs": [
    {
     "data": {
      "text/plain": [
       "Cabin       0.771044\n",
       "Age         0.198653\n",
       "Embarked    0.002245\n",
       "dtype: float64"
      ]
     },
     "execution_count": 13,
     "metadata": {},
     "output_type": "execute_result"
    }
   ],
   "source": [
    "#proporcion de NAs en cada variable\n",
    "data[var_with_na].isnull().mean().sort_values(ascending=False)"
   ]
  },
  {
   "cell_type": "code",
   "execution_count": 14,
   "id": "b65b4cb7-265a-4621-9a02-8c26dc251284",
   "metadata": {},
   "outputs": [
    {
     "data": {
      "text/plain": [
       "<matplotlib.lines.Line2D at 0x1b25adfcbb0>"
      ]
     },
     "execution_count": 14,
     "metadata": {},
     "output_type": "execute_result"
    },
    {
     "data": {
      "image/png": "[encoded data removed]",
      "text/plain": [
       "<Figure size 432x288 with 1 Axes>"
      ]
     },
     "metadata": {
      "needs_background": "light"
     },
     "output_type": "display_data"
    }
   ],
   "source": [
    "#graficamos % de NAs\n",
    "data[var_with_na].isnull().mean().sort_values(ascending=False).plot.bar()\n",
    "plt.ylabel(\"% de NAs\")\n",
    "plt.axhline(y=0.9, color=\"r\")\n",
    "plt.axhline(y=0.8, color=\"g\")"
   ]
  },
  {
   "cell_type": "code",
   "execution_count": 15,
   "id": "48547688-20bb-4879-a61c-af86f34a30fc",
   "metadata": {},
   "outputs": [
    {
     "data": {
      "text/plain": [
       "['Cabin', 'Embarked']"
      ]
     },
     "execution_count": 15,
     "metadata": {},
     "output_type": "execute_result"
    }
   ],
   "source": [
    "#variables categoricas con NAs\n",
    "cat_na = [var for var in cat_vars if var in var_with_na]\n",
    "cat_na"
   ]
  },
  {
   "cell_type": "code",
   "execution_count": 16,
   "id": "42601144-1c89-4c77-9ba7-ad3e11c4e8e6",
   "metadata": {},
   "outputs": [
    {
     "data": {
      "text/plain": [
       "['Age']"
      ]
     },
     "execution_count": 16,
     "metadata": {},
     "output_type": "execute_result"
    }
   ],
   "source": [
    "#variables numericas con NAs\n",
    "num_na = [var for var in num_vars if var in var_with_na]\n",
    "num_na"
   ]
  },
  {
   "cell_type": "code",
   "execution_count": 17,
   "id": "9aa079c3-d3bc-48ce-9309-27c6060c8121",
   "metadata": {},
   "outputs": [
    {
     "name": "stdout",
     "output_type": "stream",
     "text": [
      "Cantidad de variables numericas con NAs.1\n",
      "Cantidad de variables categoricas con NAs.2\n"
     ]
    }
   ],
   "source": [
    "print (\"Cantidad de variables numericas con NAs.{}\". format(len(num_na)))\n",
    "print (\"Cantidad de variables categoricas con NAs.{}\". format(len(cat_na)))"
   ]
  },
  {
   "cell_type": "markdown",
   "id": "817c8586-deec-4618-a719-180f56f1a327",
   "metadata": {},
   "source": [
    "### 2.2.1 Verificaciòn del impacto del NA contra el target (Survived)"
   ]
  },
  {
   "cell_type": "code",
   "execution_count": 18,
   "id": "ccb111b8-3103-475c-bc69-75ee1d68a836",
   "metadata": {},
   "outputs": [
    {
     "data": {
      "text/html": [
       "<div>\n",
       "<style scoped>\n",
       "    .dataframe tbody tr th:only-of-type {\n",
       "        vertical-align: middle;\n",
       "    }\n",
       "\n",
       "    .dataframe tbody tr th {\n",
       "        vertical-align: top;\n",
       "    }\n",
       "\n",
       "    .dataframe thead th {\n",
       "        text-align: right;\n",
       "    }\n",
       "</style>\n",
       "<table border=\"1\" class=\"dataframe\">\n",
       "  <thead>\n",
       "    <tr style=\"text-align: right;\">\n",
       "      <th></th>\n",
       "      <th>mean</th>\n",
       "      <th>std</th>\n",
       "    </tr>\n",
       "    <tr>\n",
       "      <th>Cabin</th>\n",
       "      <th></th>\n",
       "      <th></th>\n",
       "    </tr>\n",
       "  </thead>\n",
       "  <tbody>\n",
       "    <tr>\n",
       "      <th>0</th>\n",
       "      <td>0.666667</td>\n",
       "      <td>0.472564</td>\n",
       "    </tr>\n",
       "    <tr>\n",
       "      <th>1</th>\n",
       "      <td>0.299854</td>\n",
       "      <td>0.458528</td>\n",
       "    </tr>\n",
       "  </tbody>\n",
       "</table>\n",
       "</div>"
      ],
      "text/plain": [
       "           mean       std\n",
       "Cabin                    \n",
       "0      0.666667  0.472564\n",
       "1      0.299854  0.458528"
      ]
     },
     "execution_count": 18,
     "metadata": {},
     "output_type": "execute_result"
    }
   ],
   "source": [
    "df = data.copy()\n",
    "var = 'Cabin'\n",
    "df[var] = np.where(df[var].isnull(), 1,0)\n",
    "temp = df.groupby(var)[\"Survived\"].agg(['mean', 'std'])\n",
    "temp"
   ]
  },
  {
   "cell_type": "code",
   "execution_count": 19,
   "id": "5757a533-4632-4a12-b45e-2de9d1f12c2d",
   "metadata": {},
   "outputs": [],
   "source": [
    "def na_impact_over_target(df,Xvar,Yvar):\n",
    "    df = data.copy()\n",
    "    df[Xvar] = np.where(df[Xvar].isnull(), 1,0)\n",
    "    temp = df.groupby(Xvar)[Yvar].agg(['mean', 'std'])\n",
    "    temp.plot(kind=\"barh\", y=\"mean\", xerr=\"std\", legend=False, title= \"Survived\")\n",
    "    plt.show()"
   ]
  },
  {
   "cell_type": "code",
   "execution_count": 20,
   "id": "2c2fec53-ff83-4bba-985e-92a2a59f04f1",
   "metadata": {},
   "outputs": [
    {
     "data": {
      "image/png": "[encoded data removed]",
      "text/plain": [
       "<Figure size 432x288 with 1 Axes>"
      ]
     },
     "metadata": {
      "needs_background": "light"
     },
     "output_type": "display_data"
    },
    {
     "data": {
      "image/png": "[encoded data removed]",
      "text/plain": [
       "<Figure size 432x288 with 1 Axes>"
      ]
     },
     "metadata": {
      "needs_background": "light"
     },
     "output_type": "display_data"
    },
    {
     "data": {
      "image/png": "[encoded data removed]",
      "text/plain": [
       "<Figure size 432x288 with 1 Axes>"
      ]
     },
     "metadata": {
      "needs_background": "light"
     },
     "output_type": "display_data"
    }
   ],
   "source": [
    "for var in var_with_na:\n",
    "    na_impact_over_target(data,var,'Survived')"
   ]
  },
  {
   "cell_type": "markdown",
   "id": "34542bf4-7729-4357-af01-e6d889a7d7a8",
   "metadata": {},
   "source": [
    "#### 2.3 Analisis Variables Discretas"
   ]
  },
  {
   "cell_type": "code",
   "execution_count": 22,
   "id": "7c9963bc-8596-4549-a70e-5b3309bac501",
   "metadata": {},
   "outputs": [
    {
     "data": {
      "text/plain": [
       "['SibSp', 'Parch']"
      ]
     },
     "execution_count": 22,
     "metadata": {},
     "output_type": "execute_result"
    }
   ],
   "source": [
    "discrete_vars =[var for var in num_vars if((len(data[var].unique()))<20)]\n",
    "discrete_vars"
   ]
  },
  {
   "cell_type": "code",
   "execution_count": 23,
   "id": "72ca4e40-2855-4879-949f-72bcf4f72871",
   "metadata": {},
   "outputs": [
    {
     "name": "stdout",
     "output_type": "stream",
     "text": [
      "Cantidad de variables Discretas:  2\n"
     ]
    }
   ],
   "source": [
    "print (\"Cantidad de variables Discretas: \", len(discrete_vars))"
   ]
  },
  {
   "cell_type": "code",
   "execution_count": 24,
   "id": "6dbc07a9-cfd7-4002-bdd8-679e87904889",
   "metadata": {},
   "outputs": [
    {
     "data": {
      "text/html": [
       "<div>\n",
       "<style scoped>\n",
       "    .dataframe tbody tr th:only-of-type {\n",
       "        vertical-align: middle;\n",
       "    }\n",
       "\n",
       "    .dataframe tbody tr th {\n",
       "        vertical-align: top;\n",
       "    }\n",
       "\n",
       "    .dataframe thead th {\n",
       "        text-align: right;\n",
       "    }\n",
       "</style>\n",
       "<table border=\"1\" class=\"dataframe\">\n",
       "  <thead>\n",
       "    <tr style=\"text-align: right;\">\n",
       "      <th></th>\n",
       "      <th>SibSp</th>\n",
       "      <th>Parch</th>\n",
       "    </tr>\n",
       "  </thead>\n",
       "  <tbody>\n",
       "    <tr>\n",
       "      <th>0</th>\n",
       "      <td>1</td>\n",
       "      <td>0</td>\n",
       "    </tr>\n",
       "    <tr>\n",
       "      <th>1</th>\n",
       "      <td>1</td>\n",
       "      <td>0</td>\n",
       "    </tr>\n",
       "    <tr>\n",
       "      <th>2</th>\n",
       "      <td>0</td>\n",
       "      <td>0</td>\n",
       "    </tr>\n",
       "    <tr>\n",
       "      <th>3</th>\n",
       "      <td>1</td>\n",
       "      <td>0</td>\n",
       "    </tr>\n",
       "    <tr>\n",
       "      <th>4</th>\n",
       "      <td>0</td>\n",
       "      <td>0</td>\n",
       "    </tr>\n",
       "  </tbody>\n",
       "</table>\n",
       "</div>"
      ],
      "text/plain": [
       "   SibSp  Parch\n",
       "0      1      0\n",
       "1      1      0\n",
       "2      0      0\n",
       "3      1      0\n",
       "4      0      0"
      ]
     },
     "execution_count": 24,
     "metadata": {},
     "output_type": "execute_result"
    }
   ],
   "source": [
    "data[discrete_vars].head()"
   ]
  },
  {
   "cell_type": "code",
   "execution_count": 25,
   "id": "7a8fc66e-c339-427b-9025-833faa91240c",
   "metadata": {},
   "outputs": [],
   "source": [
    "import seaborn as sns"
   ]
  },
  {
   "cell_type": "code",
   "execution_count": 26,
   "id": "0710679c-0063-4d94-9ae5-0deffe9cd13e",
   "metadata": {},
   "outputs": [
    {
     "data": {
      "image/png": "[encoded data removed]",
      "text/plain": [
       "<Figure size 288x288 with 1 Axes>"
      ]
     },
     "metadata": {
      "needs_background": "light"
     },
     "output_type": "display_data"
    },
    {
     "data": {
      "image/png": "[encoded data removed]",
      "text/plain": [
       "<Figure size 288x288 with 1 Axes>"
      ]
     },
     "metadata": {
      "needs_background": "light"
     },
     "output_type": "display_data"
    }
   ],
   "source": [
    "for va in discrete_vars:\n",
    "    sns.catplot(x=var, y='Survived', data=data, kind=\"box\", height=4)\n",
    "    sns.stripplot(x=var, y='Survived', data=data, jitter=0.1, alpha=0.3, color='k')\n",
    "    plt.show()"
   ]
  },
  {
   "cell_type": "markdown",
   "id": "dc0f3b7d-a914-4b53-8408-90a910b8d51e",
   "metadata": {},
   "source": [
    "#### 2.4 Variables Continuas"
   ]
  },
  {
   "cell_type": "code",
   "execution_count": 27,
   "id": "3e979aad-b829-4a0d-a5b9-8151c87ecb1e",
   "metadata": {},
   "outputs": [],
   "source": [
    "cont_vars = [var for var in num_vars if var not in discrete_vars]"
   ]
  },
  {
   "cell_type": "code",
   "execution_count": 28,
   "id": "549dc032-17a8-4105-8675-6b5aadc46a30",
   "metadata": {},
   "outputs": [
    {
     "name": "stdout",
     "output_type": "stream",
     "text": [
      "Variables numericas continuas:  3\n"
     ]
    }
   ],
   "source": [
    "print(\"Variables numericas continuas: \", len(cont_vars))"
   ]
  },
  {
   "cell_type": "code",
   "execution_count": 29,
   "id": "573078ee-e471-446b-bb4c-1748a939e8ba",
   "metadata": {},
   "outputs": [
    {
     "data": {
      "text/html": [
       "<div>\n",
       "<style scoped>\n",
       "    .dataframe tbody tr th:only-of-type {\n",
       "        vertical-align: middle;\n",
       "    }\n",
       "\n",
       "    .dataframe tbody tr th {\n",
       "        vertical-align: top;\n",
       "    }\n",
       "\n",
       "    .dataframe thead th {\n",
       "        text-align: right;\n",
       "    }\n",
       "</style>\n",
       "<table border=\"1\" class=\"dataframe\">\n",
       "  <thead>\n",
       "    <tr style=\"text-align: right;\">\n",
       "      <th></th>\n",
       "      <th>PassengerId</th>\n",
       "      <th>Age</th>\n",
       "      <th>Fare</th>\n",
       "    </tr>\n",
       "  </thead>\n",
       "  <tbody>\n",
       "    <tr>\n",
       "      <th>0</th>\n",
       "      <td>1</td>\n",
       "      <td>22.0</td>\n",
       "      <td>7.2500</td>\n",
       "    </tr>\n",
       "    <tr>\n",
       "      <th>1</th>\n",
       "      <td>2</td>\n",
       "      <td>38.0</td>\n",
       "      <td>71.2833</td>\n",
       "    </tr>\n",
       "    <tr>\n",
       "      <th>2</th>\n",
       "      <td>3</td>\n",
       "      <td>26.0</td>\n",
       "      <td>7.9250</td>\n",
       "    </tr>\n",
       "    <tr>\n",
       "      <th>3</th>\n",
       "      <td>4</td>\n",
       "      <td>35.0</td>\n",
       "      <td>53.1000</td>\n",
       "    </tr>\n",
       "    <tr>\n",
       "      <th>4</th>\n",
       "      <td>5</td>\n",
       "      <td>35.0</td>\n",
       "      <td>8.0500</td>\n",
       "    </tr>\n",
       "  </tbody>\n",
       "</table>\n",
       "</div>"
      ],
      "text/plain": [
       "   PassengerId   Age     Fare\n",
       "0            1  22.0   7.2500\n",
       "1            2  38.0  71.2833\n",
       "2            3  26.0   7.9250\n",
       "3            4  35.0  53.1000\n",
       "4            5  35.0   8.0500"
      ]
     },
     "execution_count": 29,
     "metadata": {},
     "output_type": "execute_result"
    }
   ],
   "source": [
    "data[cont_vars].head()"
   ]
  },
  {
   "cell_type": "code",
   "execution_count": 30,
   "id": "4bbc31a6-b927-4051-abc3-df83226941b3",
   "metadata": {},
   "outputs": [
    {
     "data": {
      "image/png": "[encoded data removed]",
      "text/plain": [
       "<Figure size 1080x1080 with 4 Axes>"
      ]
     },
     "metadata": {
      "needs_background": "light"
     },
     "output_type": "display_data"
    }
   ],
   "source": [
    "data[cont_vars].hist(bins=30, figsize=(15,15))\n",
    "plt.show()"
   ]
  },
  {
   "cell_type": "markdown",
   "id": "693a2627-76ac-4a6b-8d96-01aed3618c64",
   "metadata": {},
   "source": [
    "### 2.5 Transformacion de Yeon-johnson"
   ]
  },
  {
   "cell_type": "code",
   "execution_count": 31,
   "id": "d0e8481f-1b68-4ecf-929c-f2950a81f975",
   "metadata": {},
   "outputs": [],
   "source": [
    "import scipy.stats as stats"
   ]
  },
  {
   "cell_type": "code",
   "execution_count": 32,
   "id": "e34c0659-5346-45d8-a99d-5af06830bd7e",
   "metadata": {},
   "outputs": [],
   "source": [
    "temp_yj = data.copy()"
   ]
  },
  {
   "cell_type": "code",
   "execution_count": 33,
   "id": "f0d0ccfe-1220-4186-a300-8825ec17db8c",
   "metadata": {},
   "outputs": [],
   "source": [
    "for var in cont_vars:\n",
    "    temp_yj[var], param=stats.yeojohnson(data[var])"
   ]
  },
  {
   "cell_type": "code",
   "execution_count": 34,
   "id": "e5414cb3-a2a7-4b94-a4bc-72185256cfda",
   "metadata": {},
   "outputs": [
    {
     "data": {
      "text/plain": [
       "<function matplotlib.pyplot.show(close=None, block=None)>"
      ]
     },
     "execution_count": 34,
     "metadata": {},
     "output_type": "execute_result"
    },
    {
     "data": {
      "image/png": "[encoded data removed]",
      "text/plain": [
       "<Figure size 1080x1080 with 4 Axes>"
      ]
     },
     "metadata": {
      "needs_background": "light"
     },
     "output_type": "display_data"
    }
   ],
   "source": [
    "temp_yj[cont_vars].hist(bins=30, figsize=(15,15))\n",
    "plt.show"
   ]
  },
  {
   "cell_type": "code",
   "execution_count": 35,
   "id": "5e99d4db-0625-4846-a6b0-9f4734b8c3c3",
   "metadata": {},
   "outputs": [],
   "source": [
    "temp = data.copy()"
   ]
  },
  {
   "cell_type": "code",
   "execution_count": 36,
   "id": "475eee8a-3e9f-4bde-8ab8-b7e752573ee5",
   "metadata": {},
   "outputs": [],
   "source": [
    "cont_specials = ['Age']"
   ]
  },
  {
   "cell_type": "code",
   "execution_count": 37,
   "id": "44b1cbd6-bc6d-401d-a67f-9a9355026566",
   "metadata": {},
   "outputs": [],
   "source": [
    "for var in cont_specials:\n",
    "    temp[var] = np.log(data[var] + 1)"
   ]
  },
  {
   "cell_type": "code",
   "execution_count": 38,
   "id": "bf094f94-01c1-4dc0-9abd-2b19cd162214",
   "metadata": {},
   "outputs": [
    {
     "data": {
      "text/plain": [
       "<function matplotlib.pyplot.show(close=None, block=None)>"
      ]
     },
     "execution_count": 38,
     "metadata": {},
     "output_type": "execute_result"
    },
    {
     "data": {
      "image/png": "[encoded data removed]",
      "text/plain": [
       "<Figure size 1080x1080 with 1 Axes>"
      ]
     },
     "metadata": {
      "needs_background": "light"
     },
     "output_type": "display_data"
    }
   ],
   "source": [
    "temp[cont_specials].hist(bins=30, figsize=(15,15))\n",
    "plt.show"
   ]
  },
  {
   "cell_type": "code",
   "execution_count": 39,
   "id": "059376d0-61c4-4644-885f-e9d5e413a90c",
   "metadata": {},
   "outputs": [],
   "source": [
    "for var in cont_vars:\n",
    "    temp[var] = np.log(data[var] + 1)"
   ]
  },
  {
   "cell_type": "code",
   "execution_count": 40,
   "id": "001c2d19-0d36-46c3-b5a5-3fb1b0c489cc",
   "metadata": {},
   "outputs": [
    {
     "data": {
      "text/plain": [
       "<function matplotlib.pyplot.show(close=None, block=None)>"
      ]
     },
     "execution_count": 40,
     "metadata": {},
     "output_type": "execute_result"
    },
    {
     "data": {
      "image/png": "[encoded data removed]",
      "text/plain": [
       "<Figure size 1080x1080 with 4 Axes>"
      ]
     },
     "metadata": {
      "needs_background": "light"
     },
     "output_type": "display_data"
    }
   ],
   "source": [
    "temp[cont_vars].hist(bins=30, figsize=(15,15))\n",
    "plt.show"
   ]
  },
  {
   "cell_type": "code",
   "execution_count": 42,
   "id": "0591a28e-e75f-4169-8259-0fe8e9f68ba0",
   "metadata": {},
   "outputs": [
    {
     "name": "stderr",
     "output_type": "stream",
     "text": [
      "C:\\Users\\50259\\anaconda3\\lib\\site-packages\\pandas\\core\\arraylike.py:364: RuntimeWarning: divide by zero encountered in log\n",
      "  result = getattr(ufunc, method)(*inputs, **kwargs)\n"
     ]
    },
    {
     "data": {
      "image/png": "[encoded data removed]",
      "text/plain": [
       "<Figure size 864x288 with 3 Axes>"
      ]
     },
     "metadata": {
      "needs_background": "light"
     },
     "output_type": "display_data"
    },
    {
     "data": {
      "image/png": "[encoded data removed]",
      "text/plain": [
       "<Figure size 864x288 with 3 Axes>"
      ]
     },
     "metadata": {
      "needs_background": "light"
     },
     "output_type": "display_data"
    },
    {
     "data": {
      "image/png": "[encoded data removed]",
      "text/plain": [
       "<Figure size 864x288 with 3 Axes>"
      ]
     },
     "metadata": {
      "needs_background": "light"
     },
     "output_type": "display_data"
    }
   ],
   "source": [
    "for var in cont_vars:\n",
    "    plt.figure(figsize=(12,4))\n",
    "    \n",
    "    plt.subplot(1,3,1)\n",
    "    plt.scatter(data[var], np.log(data['Survived']))\n",
    "    plt.ylabel(\"Survived\")\n",
    "    plt.xlabel(\"Original \"+ var)\n",
    "    \n",
    "    plt.subplot(1,3,2)\n",
    "    plt.scatter(temp[var], np.log(data['Survived']))\n",
    "    plt.ylabel(\"Survived\")\n",
    "    plt.xlabel(\"Transformed \"+ var)\n",
    "    \n",
    "    plt.subplot(1,3,3)\n",
    "    plt.scatter(temp_yj[var], np.log(data['Survived']))\n",
    "    plt.ylabel(\"Survived\")\n",
    "    plt.xlabel(\"Yeo_jhonson \"+ var)\n",
    "    \n",
    "    plt.show()"
   ]
  },
  {
   "cell_type": "markdown",
   "id": "72c3e8d3-5cd2-4aa5-8eb6-8b85eb5b0f1a",
   "metadata": {},
   "source": [
    "#### 2.6 Variables Categoricas"
   ]
  },
  {
   "cell_type": "code",
   "execution_count": 43,
   "id": "4e1cce69-c66c-4c74-98e7-f73e009d63e6",
   "metadata": {},
   "outputs": [
    {
     "data": {
      "text/plain": [
       "7"
      ]
     },
     "execution_count": 43,
     "metadata": {},
     "output_type": "execute_result"
    }
   ],
   "source": [
    "len(cat_vars)"
   ]
  },
  {
   "cell_type": "code",
   "execution_count": 44,
   "id": "e3ca0d1f-6e61-4f91-8c6c-b2e07176344f",
   "metadata": {},
   "outputs": [
    {
     "data": {
      "text/html": [
       "<div>\n",
       "<style scoped>\n",
       "    .dataframe tbody tr th:only-of-type {\n",
       "        vertical-align: middle;\n",
       "    }\n",
       "\n",
       "    .dataframe tbody tr th {\n",
       "        vertical-align: top;\n",
       "    }\n",
       "\n",
       "    .dataframe thead th {\n",
       "        text-align: right;\n",
       "    }\n",
       "</style>\n",
       "<table border=\"1\" class=\"dataframe\">\n",
       "  <thead>\n",
       "    <tr style=\"text-align: right;\">\n",
       "      <th></th>\n",
       "      <th>Name</th>\n",
       "      <th>Sex</th>\n",
       "      <th>Ticket</th>\n",
       "      <th>Cabin</th>\n",
       "      <th>Embarked</th>\n",
       "      <th>Survived</th>\n",
       "      <th>Pclass</th>\n",
       "    </tr>\n",
       "  </thead>\n",
       "  <tbody>\n",
       "    <tr>\n",
       "      <th>0</th>\n",
       "      <td>Braund, Mr. Owen Harris</td>\n",
       "      <td>male</td>\n",
       "      <td>A/5 21171</td>\n",
       "      <td>NaN</td>\n",
       "      <td>S</td>\n",
       "      <td>0</td>\n",
       "      <td>3</td>\n",
       "    </tr>\n",
       "    <tr>\n",
       "      <th>1</th>\n",
       "      <td>Cumings, Mrs. John Bradley (Florence Briggs Th...</td>\n",
       "      <td>female</td>\n",
       "      <td>PC 17599</td>\n",
       "      <td>C85</td>\n",
       "      <td>C</td>\n",
       "      <td>1</td>\n",
       "      <td>1</td>\n",
       "    </tr>\n",
       "    <tr>\n",
       "      <th>2</th>\n",
       "      <td>Heikkinen, Miss. Laina</td>\n",
       "      <td>female</td>\n",
       "      <td>STON/O2. 3101282</td>\n",
       "      <td>NaN</td>\n",
       "      <td>S</td>\n",
       "      <td>1</td>\n",
       "      <td>3</td>\n",
       "    </tr>\n",
       "    <tr>\n",
       "      <th>3</th>\n",
       "      <td>Futrelle, Mrs. Jacques Heath (Lily May Peel)</td>\n",
       "      <td>female</td>\n",
       "      <td>113803</td>\n",
       "      <td>C123</td>\n",
       "      <td>S</td>\n",
       "      <td>1</td>\n",
       "      <td>1</td>\n",
       "    </tr>\n",
       "    <tr>\n",
       "      <th>4</th>\n",
       "      <td>Allen, Mr. William Henry</td>\n",
       "      <td>male</td>\n",
       "      <td>373450</td>\n",
       "      <td>NaN</td>\n",
       "      <td>S</td>\n",
       "      <td>0</td>\n",
       "      <td>3</td>\n",
       "    </tr>\n",
       "  </tbody>\n",
       "</table>\n",
       "</div>"
      ],
      "text/plain": [
       "                                                Name     Sex  \\\n",
       "0                            Braund, Mr. Owen Harris    male   \n",
       "1  Cumings, Mrs. John Bradley (Florence Briggs Th...  female   \n",
       "2                             Heikkinen, Miss. Laina  female   \n",
       "3       Futrelle, Mrs. Jacques Heath (Lily May Peel)  female   \n",
       "4                           Allen, Mr. William Henry    male   \n",
       "\n",
       "             Ticket Cabin Embarked  Survived  Pclass  \n",
       "0         A/5 21171   NaN        S         0       3  \n",
       "1          PC 17599   C85        C         1       1  \n",
       "2  STON/O2. 3101282   NaN        S         1       3  \n",
       "3            113803  C123        S         1       1  \n",
       "4            373450   NaN        S         0       3  "
      ]
     },
     "execution_count": 44,
     "metadata": {},
     "output_type": "execute_result"
    }
   ],
   "source": [
    "data[cat_vars].head()"
   ]
  },
  {
   "cell_type": "code",
   "execution_count": 45,
   "id": "25914667-0905-432c-b1cf-69af061f57a9",
   "metadata": {},
   "outputs": [
    {
     "data": {
      "text/plain": [
       "<AxesSubplot:>"
      ]
     },
     "execution_count": 45,
     "metadata": {},
     "output_type": "execute_result"
    },
    {
     "data": {
      "image/png": "[encoded data removed]",
      "text/plain": [
       "<Figure size 864x360 with 1 Axes>"
      ]
     },
     "metadata": {
      "needs_background": "light"
     },
     "output_type": "display_data"
    }
   ],
   "source": [
    "data[cat_vars].nunique().sort_values(ascending = False). plot.bar(figsize=(12,5))"
   ]
  },
  {
   "cell_type": "code",
   "execution_count": 48,
   "id": "862b7eb9-4086-4da7-9fc8-608942bcfa67",
   "metadata": {},
   "outputs": [
    {
     "data": {
      "text/plain": [
       "array([1, 2, 3], dtype=int64)"
      ]
     },
     "execution_count": 48,
     "metadata": {},
     "output_type": "execute_result"
    }
   ],
   "source": [
    "np.unique(data['Pclass'])"
   ]
  },
  {
   "cell_type": "code",
   "execution_count": 50,
   "id": "f8042231-30bd-401a-ba0f-4dcc7d2d226e",
   "metadata": {},
   "outputs": [
    {
     "data": {
      "text/plain": [
       "array(['female', 'male'], dtype=object)"
      ]
     },
     "execution_count": 50,
     "metadata": {},
     "output_type": "execute_result"
    }
   ],
   "source": [
    "np.unique(data['Sex']) "
   ]
  },
  {
   "cell_type": "markdown",
   "id": "225cd30e-7b63-4fc8-8452-bbb32b3f33da",
   "metadata": {},
   "source": [
    "#### 2.7 Rare Labels"
   ]
  },
  {
   "cell_type": "code",
   "execution_count": 55,
   "id": "4310425d-9620-44a7-9e1d-6ebf0b736763",
   "metadata": {},
   "outputs": [],
   "source": [
    "otras = [var for var in cat_vars]"
   ]
  },
  {
   "cell_type": "code",
   "execution_count": 56,
   "id": "badd8796-9052-49cc-b7ab-a978dc99d698",
   "metadata": {},
   "outputs": [
    {
     "data": {
      "text/plain": [
       "7"
      ]
     },
     "execution_count": 56,
     "metadata": {},
     "output_type": "execute_result"
    }
   ],
   "source": [
    "len(otras)"
   ]
  },
  {
   "cell_type": "code",
   "execution_count": 57,
   "id": "87ee4107-6d4d-4ae5-adf7-f895b0230f04",
   "metadata": {},
   "outputs": [],
   "source": [
    "def analyse_rare_labels(df,var,rare_perc):\n",
    "    temp = df.groupby(var)['Survived'].count()/len(df)\n",
    "    \n",
    "    return temp[temp < rare_perc]"
   ]
  },
  {
   "cell_type": "code",
   "execution_count": 58,
   "id": "6dd1ad30-33d7-4f98-9e50-77265615477c",
   "metadata": {},
   "outputs": [
    {
     "name": "stdout",
     "output_type": "stream",
     "text": [
      "Name\n",
      "Abbing, Mr. Anthony                      0.001122\n",
      "Abbott, Mr. Rossmore Edward              0.001122\n",
      "Abbott, Mrs. Stanton (Rosa Hunt)         0.001122\n",
      "Abelson, Mr. Samuel                      0.001122\n",
      "Abelson, Mrs. Samuel (Hannah Wizosky)    0.001122\n",
      "                                           ...   \n",
      "de Mulder, Mr. Theodore                  0.001122\n",
      "de Pelsmaeker, Mr. Alfons                0.001122\n",
      "del Carlo, Mr. Sebastiano                0.001122\n",
      "van Billiard, Mr. Austin Blyler          0.001122\n",
      "van Melkebeke, Mr. Philemon              0.001122\n",
      "Name: Survived, Length: 891, dtype: float64\n",
      "\n",
      "Series([], Name: Survived, dtype: float64)\n",
      "\n",
      "Ticket\n",
      "110152         0.003367\n",
      "110413         0.003367\n",
      "110465         0.002245\n",
      "110564         0.001122\n",
      "110813         0.001122\n",
      "                 ...   \n",
      "W./C. 6608     0.004489\n",
      "W./C. 6609     0.001122\n",
      "W.E.P. 5734    0.001122\n",
      "W/C 14208      0.001122\n",
      "WE/P 5735      0.002245\n",
      "Name: Survived, Length: 681, dtype: float64\n",
      "\n",
      "Cabin\n",
      "A10    0.001122\n",
      "A14    0.001122\n",
      "A16    0.001122\n",
      "A19    0.001122\n",
      "A20    0.001122\n",
      "         ...   \n",
      "F33    0.003367\n",
      "F38    0.001122\n",
      "F4     0.002245\n",
      "G6     0.004489\n",
      "T      0.001122\n",
      "Name: Survived, Length: 147, dtype: float64\n",
      "\n",
      "Series([], Name: Survived, dtype: float64)\n",
      "\n",
      "Series([], Name: Survived, dtype: float64)\n",
      "\n",
      "Series([], Name: Survived, dtype: float64)\n",
      "\n"
     ]
    }
   ],
   "source": [
    "for var in otras:\n",
    "    print(analyse_rare_labels(data,var,0.01))\n",
    "    print()"
   ]
  },
  {
   "cell_type": "code",
   "execution_count": 59,
   "id": "491e90ed-9cdc-4a85-9fa1-3a0bc2e0c878",
   "metadata": {},
   "outputs": [
    {
     "data": {
      "image/png": "[encoded data removed]",
      "text/plain": [
       "<Figure size 432x288 with 1 Axes>"
      ]
     },
     "metadata": {
      "needs_background": "light"
     },
     "output_type": "display_data"
    },
    {
     "data": {
      "image/png": "[encoded data removed]",
      "text/plain": [
       "<Figure size 432x288 with 1 Axes>"
      ]
     },
     "metadata": {
      "needs_background": "light"
     },
     "output_type": "display_data"
    },
    {
     "data": {
      "image/png": "[encoded data removed]",
      "text/plain": [
       "<Figure size 432x288 with 1 Axes>"
      ]
     },
     "metadata": {
      "needs_background": "light"
     },
     "output_type": "display_data"
    },
    {
     "data": {
      "image/png": "[encoded data removed]",
      "text/plain": [
       "<Figure size 432x288 with 1 Axes>"
      ]
     },
     "metadata": {
      "needs_background": "light"
     },
     "output_type": "display_data"
    },
    {
     "data": {
      "image/png": "[encoded data removed]",
      "text/plain": [
       "<Figure size 432x288 with 1 Axes>"
      ]
     },
     "metadata": {
      "needs_background": "light"
     },
     "output_type": "display_data"
    },
    {
     "data": {
      "image/png": "[encoded data removed]",
      "text/plain": [
       "<Figure size 432x288 with 1 Axes>"
      ]
     },
     "metadata": {
      "needs_background": "light"
     },
     "output_type": "display_data"
    },
    {
     "data": {
      "image/png": "[encoded data removed]",
      "text/plain": [
       "<Figure size 432x288 with 1 Axes>"
      ]
     },
     "metadata": {
      "needs_background": "light"
     },
     "output_type": "display_data"
    }
   ],
   "source": [
    "for va in otras:\n",
    "    sns.catplot(x=var, y='Survived', data=data, kind=\"box\", height=4, aspect=1.5)\n",
    "    sns.stripplot(x=var, y='Survived', data=data, jitter=0.1, alpha=0.3, color='k')\n",
    "    plt.show()"
   ]
  },
  {
   "cell_type": "code",
   "execution_count": null,
   "id": "a4995f0a-1874-4d8b-8ad6-f898bec3d44a",
   "metadata": {},
   "outputs": [],
   "source": []
  }
 ],
 "metadata": {
  "kernelspec": {
   "display_name": "Python 3",
   "language": "python",
   "name": "python3"
  },
  "language_info": {
   "codemirror_mode": {
    "name": "ipython",
    "version": 3
   },
   "file_extension": ".py",
   "mimetype": "text/x-python",
   "name": "python",
   "nbconvert_exporter": "python",
   "pygments_lexer": "ipython3",
   "version": "3.8.5"
  }
 },
 "nbformat": 4,
 "nbformat_minor": 5
}
